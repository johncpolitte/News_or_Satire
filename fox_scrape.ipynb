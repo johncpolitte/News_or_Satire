{
 "cells": [
  {
   "cell_type": "code",
   "execution_count": 1,
   "metadata": {},
   "outputs": [],
   "source": [
    "import requests\n",
    "import re\n",
    "from bs4 import BeautifulSoup, Comment\n",
    "\n",
    "import json\n",
    "import numpy as np\n",
    "import pandas as pd\n",
    "import time\n",
    "\n",
    "from pymongo import MongoClient"
   ]
  },
  {
   "cell_type": "code",
   "execution_count": 30,
   "metadata": {},
   "outputs": [],
   "source": [
    "webpage = requests.get('https://www.foxnews.com/politics/muellers-report-on-russia-investigation-what-happens-when-it-finally-drops')"
   ]
  },
  {
   "cell_type": "code",
   "execution_count": 31,
   "metadata": {},
   "outputs": [],
   "source": [
    "soup = BeautifulSoup(webpage.text, 'lxml')"
   ]
  },
  {
   "cell_type": "code",
   "execution_count": 32,
   "metadata": {},
   "outputs": [],
   "source": [
    "web = soup.find_all('div', {'class':'article-body'})[0].text"
   ]
  },
  {
   "cell_type": "code",
   "execution_count": 33,
   "metadata": {},
   "outputs": [
    {
     "data": {
      "text/plain": [
       "'closeVideoComey calls for transparency in Mueller probeFor weeks, rumors have been swirling that Special Counsel Robert Mueller is nearing the end of his years-long Russia investigation\\xa0— and lawmakers on Capitol Hill are eager to make his final report public.The House of Representatives unanimously voted (420-0) Thursday\\xa0in favor of a resolution to urge Attorney General William Barr to release Mueller’s\\xa0full report\\xa0to Congress and the country for the sake of \"transparency.\" The probe was intended to examine\\xa0Russian election interference and whether President Trump\\'s campaign colluded with Russian officials during the 2016 election -- and has since resulted in charges for several former Trump campaign associates,\\xa0though none have directly related to\\xa0collusion.Trump\\xa0called the investigation \"illegal\" and \"conflicted\" this week, arguing Mueller should have never been appointed in the first place.WHAT IS \\'COLLUSION,\\' AND IS IT A CRIME? RUSSIA INVESTIGATION\\'S BUZZWORD EXPLAINED“THIS SHOULD NEVER HAPPEN TO A PRESIDENT AGAIN!” Trump exclaimed in a tweet\\xa0after claiming \"collusion\" was an excuse invented by Democrats after Hillary Clinton lost the election.Here\\'s a look at what happens when Mueller finally drops\\xa0the long-awaited files that spell out his findings.Mueller submits his report to BarrWhen the investigation\\xa0— which began in May 2017 — concludes, Mueller will release his final report to Barr, who has been overseeing the special counsel since he took office in February.\"At the conclusion of the Special Counsel\\'s work, he or she shall provide the Attorney General with a confidential report explaining the prosecution or declination decisions reached by the Special Counsel,\" Cornell Law School explains in a blog post detailing the federal regulations.ANDREW WEISSMANN, A TOP PROSECUTOR ON MUELLER TEAM, TO LEAVE SPECIAL COUNSEL\\'S OFFICE \\'IN NEAR FUTURE\\'Throughout the two-year probe, Mueller has also been required to flag any documents that detail any impending prosecutions or witness interviews, among other actions.Barr reviews the documents\\n      Attorney General William Barr will be the first to receive the official copy of Mueller\\'s report.\\n      (AP Photo/Andrew Harnik)It\\'s currently unclear what documentation will be produced at the end of the probe, but it\\'s up to Barr to determine how much information Congress will see.“He could write a two-sentence explanation — or he could write something very detailed,”\\xa0Andrew Kent, a professor at Fordham University School of Law, previously told The Washington Post.\\xa0“There appears to be a great deal of discretion vested by the regulations to determine how detailed a report to write. The regulations don’t limit that.”He is obligated to tell members of Congress why Mueller decided to end the investigation but he\\'s not legally required to provide any supporting paperwork, according to The New York Times.It\\'s likely Barr will redact any information he deems inappropriate or harmful to a person\\'s character if he or she has not been charged with a crime. Classified information, grand jury items and closed-door testimony will also be protected.In a February letter to Barr, Democratic leaders argued that Trump, given his status, should not fall under those categories of protection.\"I also believe it is very important that the public and Congress be informed of the results of the special counsel\\'s work.\"— William Barr\"Although we recognize the policy of the Department to remains sensitive to the privacy and reputation interests of individuals who will not face criminal charges, we feel that it is necessary to address the particular danger of withholding evidence of misconduct by President Trump from the relevant committees,\" the lawmakers wrote.During his confirmation hearing, Barr stressed that he would be as transparent as possible while following federal laws.\"I also believe it is very important that the public and Congress be informed of the results of the special counsel\\'s work,\" he told the\\xa0Senate Judiciary Committee in January, adding that he doesn\\'t believe Mueller would be involved in a \"witch hunt.\"Congress receives Barr\\'s summary of the reportOnce Barr sifts through what\\'s anticipated to be a lengthy report\\xa0— which could take days or even weeks to fully read\\xa0— then he will give lawmakers a summary.If lawmakers are dissatisfied\\xa0with the documents Barr has provided, they could call for hearings or private depositions seeking more information.WHO IS WILLIAM BARR? 5 THINGS TO KNOW ABOUT THE ATTORNEY GENERAL\"This is going to be a legal battle,\" Rep. Doug Collins, R-Ga., commented on the likelihood of lawmakers attempting to seek confidential information from the report, according to USA Today.Patrick Cotter, a former federal prosecutor who is in private practice in Chicago, expressed doubt that lawmakers would\\xa0subpoena the report or call on Mueller\\xa0to discuss the high-profile case publicly.\"This notion that Congress is going to throw a subpoena on Bob Mueller and say, \\'Box up all the grand jury stuff, and give it to me\\': I think that\\'s a fantasy,\" Cotter told USA Today.Fox News\\' Brooke Singman and The Associated Press contributed to this report.'"
      ]
     },
     "execution_count": 33,
     "metadata": {},
     "output_type": "execute_result"
    }
   ],
   "source": [
    "web"
   ]
  },
  {
   "cell_type": "code",
   "execution_count": null,
   "metadata": {},
   "outputs": [],
   "source": []
  }
 ],
 "metadata": {
  "kernelspec": {
   "display_name": "Python 3",
   "language": "python",
   "name": "python3"
  },
  "language_info": {
   "codemirror_mode": {
    "name": "ipython",
    "version": 3
   },
   "file_extension": ".py",
   "mimetype": "text/x-python",
   "name": "python",
   "nbconvert_exporter": "python",
   "pygments_lexer": "ipython3",
   "version": "3.7.1"
  }
 },
 "nbformat": 4,
 "nbformat_minor": 2
}
