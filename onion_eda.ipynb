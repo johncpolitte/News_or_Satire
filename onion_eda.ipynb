{
 "cells": [
  {
   "cell_type": "code",
   "execution_count": 2,
   "metadata": {},
   "outputs": [],
   "source": [
    "import pymongo\n",
    "from pymongo import MongoClient"
   ]
  },
  {
   "cell_type": "code",
   "execution_count": 3,
   "metadata": {},
   "outputs": [],
   "source": [
    "client = MongoClient()"
   ]
  },
  {
   "cell_type": "code",
   "execution_count": 5,
   "metadata": {},
   "outputs": [],
   "source": [
    "db = client.capstone"
   ]
  },
  {
   "cell_type": "code",
   "execution_count": 6,
   "metadata": {},
   "outputs": [],
   "source": [
    "collection = db.onion1"
   ]
  },
  {
   "cell_type": "code",
   "execution_count": 23,
   "metadata": {},
   "outputs": [],
   "source": [
    "docs = collection.find()"
   ]
  },
  {
   "cell_type": "code",
   "execution_count": 24,
   "metadata": {},
   "outputs": [],
   "source": [
    "dict_list = []\n",
    "for x in docs:\n",
    "    dict_list.append(x)"
   ]
  },
  {
   "cell_type": "code",
   "execution_count": 27,
   "metadata": {},
   "outputs": [
    {
     "data": {
      "text/plain": [
       "{'_id': ObjectId('5c9e7cc1d0ded7ea00ebe81d'),\n",
       " 'https://wwwDOTtheonionDOTcom/engineers-still-unable-to-produce-styrofoam-cup-without-1832963821': '<p>PALO ALTO, CA—Frustrated at their lack of progress in the fields of disposable drinking vessel design and production, engineers at Function Engineering, Inc. confirmed Thursday that they are as yet unable to produce a styrofoam cup without the little center nub sticking out from the bottom. “This team, and dozens of teams before them, have worked on this challenge for over four decades without cracking it. The nubless styrofoam cup has become the industry’s white whale,” said engineer Roberta Quinones, recounting hundreds of failed prototypes, forays into the use of experimental materials, and desperate attempts to simply remove the center nub, all of which ultimately rendered the cup completely unusable. “We’ve collaborated with some of the best engineers in the country, but no dice. We’ve found that, unfortunately, without the nub, the cups tend to simply fall apart in one’s hands. We aren’t sure of the nub’s exact function. We only know that, far from being a useless remnant like the human appendix, it seems absolutely integral to the cup itself. For my own peace of mind, I have to believe we’re getting closer and closer to a nub-free cup every day, but if you ask me for evidence to support that, well, you’ll be as disappointed as we are.” Quinones also solemnly thanked all the structural, materials sciences, and general beverage container engineers who have bravely laid down their lives for the cause.</p>'}"
      ]
     },
     "execution_count": 27,
     "metadata": {},
     "output_type": "execute_result"
    }
   ],
   "source": [
    "dict_list[0]"
   ]
  },
  {
   "cell_type": "code",
   "execution_count": null,
   "metadata": {},
   "outputs": [],
   "source": []
  }
 ],
 "metadata": {
  "kernelspec": {
   "display_name": "Python 3",
   "language": "python",
   "name": "python3"
  },
  "language_info": {
   "codemirror_mode": {
    "name": "ipython",
    "version": 3
   },
   "file_extension": ".py",
   "mimetype": "text/x-python",
   "name": "python",
   "nbconvert_exporter": "python",
   "pygments_lexer": "ipython3",
   "version": "3.6.8"
  }
 },
 "nbformat": 4,
 "nbformat_minor": 2
}
