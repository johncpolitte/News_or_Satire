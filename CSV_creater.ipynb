{
 "cells": [
  {
   "cell_type": "code",
   "execution_count": 1,
   "metadata": {},
   "outputs": [],
   "source": [
    "import pandas as pd"
   ]
  },
  {
   "cell_type": "code",
   "execution_count": 2,
   "metadata": {},
   "outputs": [],
   "source": [
    "cnn_df = pd.read_csv('data/cnn.csv')"
   ]
  },
  {
   "cell_type": "code",
   "execution_count": 3,
   "metadata": {},
   "outputs": [],
   "source": [
    "fox_df = pd.read_csv('data/fox.csv')"
   ]
  },
  {
   "cell_type": "code",
   "execution_count": 10,
   "metadata": {},
   "outputs": [],
   "source": [
    "fox_content = fox_df.content[1]"
   ]
  },
  {
   "cell_type": "code",
   "execution_count": 26,
   "metadata": {},
   "outputs": [],
   "source": [
    "fox_articles= fox_df.content"
   ]
  },
  {
   "cell_type": "code",
   "execution_count": 31,
   "metadata": {},
   "outputs": [],
   "source": [
    "fox_articles_list = list(fox_articles)"
   ]
  },
  {
   "cell_type": "code",
   "execution_count": 32,
   "metadata": {},
   "outputs": [
    {
     "data": {
      "text/plain": [
       "4354"
      ]
     },
     "execution_count": 32,
     "metadata": {},
     "output_type": "execute_result"
    }
   ],
   "source": [
    "len(fox_articles_list)"
   ]
  },
  {
   "cell_type": "code",
   "execution_count": 37,
   "metadata": {},
   "outputs": [
    {
     "name": "stdout",
     "output_type": "stream",
     "text": [
      "4354\n",
      "2276422\n",
      "522.8346348185577\n"
     ]
    }
   ],
   "source": [
    "count = 0\n",
    "words = 0\n",
    "for x in fox_articles_list:\n",
    "    length = len(x.split()) \n",
    "    words += length\n",
    "    count += 1\n",
    "print(count)\n",
    "print(words)\n",
    "print(words/count)"
   ]
  },
  {
   "cell_type": "code",
   "execution_count": 36,
   "metadata": {},
   "outputs": [
    {
     "data": {
      "text/plain": [
       "522.8346348185577"
      ]
     },
     "execution_count": 36,
     "metadata": {},
     "output_type": "execute_result"
    }
   ],
   "source": []
  },
  {
   "cell_type": "code",
   "execution_count": 15,
   "metadata": {},
   "outputs": [],
   "source": [
    "x = fox_content.split()"
   ]
  },
  {
   "cell_type": "code",
   "execution_count": 17,
   "metadata": {},
   "outputs": [
    {
     "data": {
      "text/plain": [
       "' Republican presidential candidate Ben Carson’s campaign was shaken up Thursday by the resignation of three of his most senior staffers    as the former neurosurgeon sees a drop in poll numbers and is raking in more donations than his GOP rivals.  Communications Director Doug Watts told Fox News in a statement that he and campaign manager Barry Bennett had resigned from the campaign. ”Barry Bennett and I have resigned from the Carson campaign effective immediately,” Watts said. “We respect the candidate and we have enjoyed helping him go from far back in the field to   status. ” Carson Press Secretary Deana Bass later confirmed deputy campaign manager Lisa Coen has also resigned.  The resignations come just after the Carson camp announcedthat they had brought in $23 million in donations in the fourth quarter, surpassing all other Republicans, including Texas Sen. Ted Cruz who had brought in $20 million. “Having just announced raising $23m( illion) for the 4th Q( uarter) more than any other Republican candidate, and passing 1 million contributions and over 600 K unique donors since March, we are proud of our efforts for Dr. Carson and we wish him and his campaign the best of luck,” Watts said. Carson surged into second place in the polls in the middle of 2015, and was at one point briefly tied with   Donald Trump, but has since seen his numbers slide. The latest Real Clear Politics average of recent polls shows Carson has slipped to fourth place, behind Trump, Cruz and Sen. Marco Rubio,  . A December Fox News Poll showed a similar drop in fortunes, with the former neurosurgeon dropping to 9 percent, from a high of 23 percent in the fall. The campaign announced later Thursday that retired Major General Bob Dees will become the campaign chairman, while E, ”As we enter a new phase of the campaign cycle, it is necessary to invigorate my campaign with a strategy that more aggressively shares my vision and   with the American people. I commend Barry Bennett and Doug Watts for their efforts to help me share my vision for America,” Carson said in a statement.  Fox News’ Patrick Ward and Serafin Gomez contributed to this report.   '"
      ]
     },
     "execution_count": 17,
     "metadata": {},
     "output_type": "execute_result"
    }
   ],
   "source": [
    "fox_content"
   ]
  },
  {
   "cell_type": "code",
   "execution_count": null,
   "metadata": {},
   "outputs": [],
   "source": []
  }
 ],
 "metadata": {
  "kernelspec": {
   "display_name": "Python 3",
   "language": "python",
   "name": "python3"
  },
  "language_info": {
   "codemirror_mode": {
    "name": "ipython",
    "version": 3
   },
   "file_extension": ".py",
   "mimetype": "text/x-python",
   "name": "python",
   "nbconvert_exporter": "python",
   "pygments_lexer": "ipython3",
   "version": "3.6.8"
  }
 },
 "nbformat": 4,
 "nbformat_minor": 2
}
