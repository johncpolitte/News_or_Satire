{
 "cells": [
  {
   "cell_type": "code",
   "execution_count": 1,
   "metadata": {},
   "outputs": [],
   "source": [
    "import pandas as pd"
   ]
  },
  {
   "cell_type": "code",
   "execution_count": 2,
   "metadata": {},
   "outputs": [],
   "source": [
    "cnn_df = pd.read_csv('data/cnn.csv')"
   ]
  },
  {
   "cell_type": "code",
   "execution_count": 3,
   "metadata": {},
   "outputs": [],
   "source": [
    "fox_df = pd.read_csv('data/fox.csv')"
   ]
  },
  {
   "cell_type": "code",
   "execution_count": 10,
   "metadata": {},
   "outputs": [],
   "source": [
    "fox_content = fox_df.content[1]"
   ]
  },
  {
   "cell_type": "code",
   "execution_count": 26,
   "metadata": {},
   "outputs": [],
   "source": [
    "fox_articles= fox_df.content"
   ]
  },
  {
   "cell_type": "code",
   "execution_count": 31,
   "metadata": {},
   "outputs": [],
   "source": [
    "fox_articles_list = list(fox_articles)"
   ]
  },
  {
   "cell_type": "code",
   "execution_count": 32,
   "metadata": {},
   "outputs": [
    {
     "data": {
      "text/plain": [
       "4354"
      ]
     },
     "execution_count": 32,
     "metadata": {},
     "output_type": "execute_result"
    }
   ],
   "source": [
    "len(fox_articles_list)"
   ]
  },
  {
   "cell_type": "markdown",
   "metadata": {},
   "source": [
    "## Fox word count (still needs work)"
   ]
  },
  {
   "cell_type": "code",
   "execution_count": 57,
   "metadata": {},
   "outputs": [],
   "source": [
    "def fox_word_count(content_list):\n",
    "    '''\n",
    "    Takes in a list of fox articles that is a list of strings\n",
    "    and then returns an average word count for each article.\n",
    "    input: list of strings\n",
    "    output: average word count per article\n",
    "    '''\n",
    "    \n",
    "    count = 0\n",
    "    words = 0\n",
    "    \n",
    "    \n",
    "    # Come back for more preprocessing\n",
    "    # Right now this is just a rough estimate\n",
    "    # because the numbers in the articles are messing up\n",
    "    # the count\n",
    "    # (), \"\" are also messing up the count\n",
    "    for x in content_list:\n",
    "        length = len(x.split()) \n",
    "        words += length\n",
    "        count += 1\n",
    "    print(count)\n",
    "    print(words)\n",
    "    return words/count"
   ]
  },
  {
   "cell_type": "code",
   "execution_count": 58,
   "metadata": {},
   "outputs": [
    {
     "name": "stdout",
     "output_type": "stream",
     "text": [
      "4354\n",
      "2276422\n"
     ]
    },
    {
     "data": {
      "text/plain": [
       "522.8346348185577"
      ]
     },
     "execution_count": 58,
     "metadata": {},
     "output_type": "execute_result"
    }
   ],
   "source": [
    "fox_word_count(fox_articles_list)"
   ]
  },
  {
   "cell_type": "code",
   "execution_count": 15,
   "metadata": {},
   "outputs": [],
   "source": [
    "x = fox_content.split()"
   ]
  },
  {
   "cell_type": "code",
   "execution_count": 43,
   "metadata": {},
   "outputs": [
    {
     "data": {
      "text/plain": [
       "['Republican',\n",
       " 'presidential',\n",
       " 'candidate',\n",
       " 'Ben',\n",
       " 'Carson’s',\n",
       " 'campaign',\n",
       " 'was',\n",
       " 'shaken',\n",
       " 'up',\n",
       " 'Thursday',\n",
       " 'by',\n",
       " 'the',\n",
       " 'resignation',\n",
       " 'of',\n",
       " 'three',\n",
       " 'of',\n",
       " 'his',\n",
       " 'most',\n",
       " 'senior',\n",
       " 'staffers',\n",
       " 'as',\n",
       " 'the',\n",
       " 'former',\n",
       " 'neurosurgeon',\n",
       " 'sees',\n",
       " 'a',\n",
       " 'drop',\n",
       " 'in',\n",
       " 'poll',\n",
       " 'numbers',\n",
       " 'and',\n",
       " 'is',\n",
       " 'raking',\n",
       " 'in',\n",
       " 'more',\n",
       " 'donations',\n",
       " 'than',\n",
       " 'his',\n",
       " 'GOP',\n",
       " 'rivals.',\n",
       " 'Communications',\n",
       " 'Director',\n",
       " 'Doug',\n",
       " 'Watts',\n",
       " 'told',\n",
       " 'Fox',\n",
       " 'News',\n",
       " 'in',\n",
       " 'a',\n",
       " 'statement',\n",
       " 'that',\n",
       " 'he',\n",
       " 'and',\n",
       " 'campaign',\n",
       " 'manager',\n",
       " 'Barry',\n",
       " 'Bennett',\n",
       " 'had',\n",
       " 'resigned',\n",
       " 'from',\n",
       " 'the',\n",
       " 'campaign.',\n",
       " '”Barry',\n",
       " 'Bennett',\n",
       " 'and',\n",
       " 'I',\n",
       " 'have',\n",
       " 'resigned',\n",
       " 'from',\n",
       " 'the',\n",
       " 'Carson',\n",
       " 'campaign',\n",
       " 'effective',\n",
       " 'immediately,”',\n",
       " 'Watts',\n",
       " 'said.',\n",
       " '“We',\n",
       " 'respect',\n",
       " 'the',\n",
       " 'candidate',\n",
       " 'and',\n",
       " 'we',\n",
       " 'have',\n",
       " 'enjoyed',\n",
       " 'helping',\n",
       " 'him',\n",
       " 'go',\n",
       " 'from',\n",
       " 'far',\n",
       " 'back',\n",
       " 'in',\n",
       " 'the',\n",
       " 'field',\n",
       " 'to',\n",
       " 'status.',\n",
       " '”',\n",
       " 'Carson',\n",
       " 'Press',\n",
       " 'Secretary',\n",
       " 'Deana',\n",
       " 'Bass',\n",
       " 'later',\n",
       " 'confirmed',\n",
       " 'deputy',\n",
       " 'campaign',\n",
       " 'manager',\n",
       " 'Lisa',\n",
       " 'Coen',\n",
       " 'has',\n",
       " 'also',\n",
       " 'resigned.',\n",
       " 'The',\n",
       " 'resignations',\n",
       " 'come',\n",
       " 'just',\n",
       " 'after',\n",
       " 'the',\n",
       " 'Carson',\n",
       " 'camp',\n",
       " 'announcedthat',\n",
       " 'they',\n",
       " 'had',\n",
       " 'brought',\n",
       " 'in',\n",
       " '$23',\n",
       " 'million',\n",
       " 'in',\n",
       " 'donations',\n",
       " 'in',\n",
       " 'the',\n",
       " 'fourth',\n",
       " 'quarter,',\n",
       " 'surpassing',\n",
       " 'all',\n",
       " 'other',\n",
       " 'Republicans,',\n",
       " 'including',\n",
       " 'Texas',\n",
       " 'Sen.',\n",
       " 'Ted',\n",
       " 'Cruz',\n",
       " 'who',\n",
       " 'had',\n",
       " 'brought',\n",
       " 'in',\n",
       " '$20',\n",
       " 'million.',\n",
       " '“Having',\n",
       " 'just',\n",
       " 'announced',\n",
       " 'raising',\n",
       " '$23m(',\n",
       " 'illion)',\n",
       " 'for',\n",
       " 'the',\n",
       " '4th',\n",
       " 'Q(',\n",
       " 'uarter)',\n",
       " 'more',\n",
       " 'than',\n",
       " 'any',\n",
       " 'other',\n",
       " 'Republican',\n",
       " 'candidate,',\n",
       " 'and',\n",
       " 'passing',\n",
       " '1',\n",
       " 'million',\n",
       " 'contributions',\n",
       " 'and',\n",
       " 'over',\n",
       " '600',\n",
       " 'K',\n",
       " 'unique',\n",
       " 'donors',\n",
       " 'since',\n",
       " 'March,',\n",
       " 'we',\n",
       " 'are',\n",
       " 'proud',\n",
       " 'of',\n",
       " 'our',\n",
       " 'efforts',\n",
       " 'for',\n",
       " 'Dr.',\n",
       " 'Carson',\n",
       " 'and',\n",
       " 'we',\n",
       " 'wish',\n",
       " 'him',\n",
       " 'and',\n",
       " 'his',\n",
       " 'campaign',\n",
       " 'the',\n",
       " 'best',\n",
       " 'of',\n",
       " 'luck,”',\n",
       " 'Watts',\n",
       " 'said.',\n",
       " 'Carson',\n",
       " 'surged',\n",
       " 'into',\n",
       " 'second',\n",
       " 'place',\n",
       " 'in',\n",
       " 'the',\n",
       " 'polls',\n",
       " 'in',\n",
       " 'the',\n",
       " 'middle',\n",
       " 'of',\n",
       " '2015,',\n",
       " 'and',\n",
       " 'was',\n",
       " 'at',\n",
       " 'one',\n",
       " 'point',\n",
       " 'briefly',\n",
       " 'tied',\n",
       " 'with',\n",
       " 'Donald',\n",
       " 'Trump,',\n",
       " 'but',\n",
       " 'has',\n",
       " 'since',\n",
       " 'seen',\n",
       " 'his',\n",
       " 'numbers',\n",
       " 'slide.',\n",
       " 'The',\n",
       " 'latest',\n",
       " 'Real',\n",
       " 'Clear',\n",
       " 'Politics',\n",
       " 'average',\n",
       " 'of',\n",
       " 'recent',\n",
       " 'polls',\n",
       " 'shows',\n",
       " 'Carson',\n",
       " 'has',\n",
       " 'slipped',\n",
       " 'to',\n",
       " 'fourth',\n",
       " 'place,',\n",
       " 'behind',\n",
       " 'Trump,',\n",
       " 'Cruz',\n",
       " 'and',\n",
       " 'Sen.',\n",
       " 'Marco',\n",
       " 'Rubio,',\n",
       " '.',\n",
       " 'A',\n",
       " 'December',\n",
       " 'Fox',\n",
       " 'News',\n",
       " 'Poll',\n",
       " 'showed',\n",
       " 'a',\n",
       " 'similar',\n",
       " 'drop',\n",
       " 'in',\n",
       " 'fortunes,',\n",
       " 'with',\n",
       " 'the',\n",
       " 'former',\n",
       " 'neurosurgeon',\n",
       " 'dropping',\n",
       " 'to',\n",
       " '9',\n",
       " 'percent,',\n",
       " 'from',\n",
       " 'a',\n",
       " 'high',\n",
       " 'of',\n",
       " '23',\n",
       " 'percent',\n",
       " 'in',\n",
       " 'the',\n",
       " 'fall.',\n",
       " 'The',\n",
       " 'campaign',\n",
       " 'announced',\n",
       " 'later',\n",
       " 'Thursday',\n",
       " 'that',\n",
       " 'retired',\n",
       " 'Major',\n",
       " 'General',\n",
       " 'Bob',\n",
       " 'Dees',\n",
       " 'will',\n",
       " 'become',\n",
       " 'the',\n",
       " 'campaign',\n",
       " 'chairman,',\n",
       " 'while',\n",
       " 'E,',\n",
       " '”As',\n",
       " 'we',\n",
       " 'enter',\n",
       " 'a',\n",
       " 'new',\n",
       " 'phase',\n",
       " 'of',\n",
       " 'the',\n",
       " 'campaign',\n",
       " 'cycle,',\n",
       " 'it',\n",
       " 'is',\n",
       " 'necessary',\n",
       " 'to',\n",
       " 'invigorate',\n",
       " 'my',\n",
       " 'campaign',\n",
       " 'with',\n",
       " 'a',\n",
       " 'strategy',\n",
       " 'that',\n",
       " 'more',\n",
       " 'aggressively',\n",
       " 'shares',\n",
       " 'my',\n",
       " 'vision',\n",
       " 'and',\n",
       " 'with',\n",
       " 'the',\n",
       " 'American',\n",
       " 'people.',\n",
       " 'I',\n",
       " 'commend',\n",
       " 'Barry',\n",
       " 'Bennett',\n",
       " 'and',\n",
       " 'Doug',\n",
       " 'Watts',\n",
       " 'for',\n",
       " 'their',\n",
       " 'efforts',\n",
       " 'to',\n",
       " 'help',\n",
       " 'me',\n",
       " 'share',\n",
       " 'my',\n",
       " 'vision',\n",
       " 'for',\n",
       " 'America,”',\n",
       " 'Carson',\n",
       " 'said',\n",
       " 'in',\n",
       " 'a',\n",
       " 'statement.',\n",
       " 'Fox',\n",
       " 'News’',\n",
       " 'Patrick',\n",
       " 'Ward',\n",
       " 'and',\n",
       " 'Serafin',\n",
       " 'Gomez',\n",
       " 'contributed',\n",
       " 'to',\n",
       " 'this',\n",
       " 'report.']"
      ]
     },
     "execution_count": 43,
     "metadata": {},
     "output_type": "execute_result"
    }
   ],
   "source": [
    "fox_content.split()"
   ]
  },
  {
   "cell_type": "markdown",
   "metadata": {},
   "source": [
    "## CNN word count"
   ]
  },
  {
   "cell_type": "code",
   "execution_count": 49,
   "metadata": {},
   "outputs": [],
   "source": [
    "attempt = cnn_df.content[0].split()"
   ]
  },
  {
   "cell_type": "code",
   "execution_count": 52,
   "metadata": {},
   "outputs": [
    {
     "name": "stdout",
     "output_type": "stream",
     "text": [
      "['Istanbul', 'At', 'least', '39', 'people', 'were', 'killed', 'and', 'at', 'least', '69', 'wounded', 'in', 'an', 'attack', 'in', 'a', 'nightclub', 'early', 'Sunday', 'as', 'they', 'were', 'celebrating', 'the', 'new', 'year,', 'Turkey’s', 'Interior', 'Minister', 'said.', '”We', 'are', 'face', 'to', 'face', 'with', 'a', 'terror', 'attack,”', 'Interior', 'minister', 'Suleyman', 'Soylu', 'told', 'reporters.', 'of', 'the', 'dead', 'have', 'been', 'identified,', 'he', 'said.', 'Of', 'those,', '16', 'were', 'foreign', 'nationals', 'and', 'five', 'were', 'Turkish.', 'US', 'officials', 'also', 'called', 'it', 'a', 'terrorist', 'attack,', 'making', 'it', 'the', 'first', 'of', '2017.', 'Latest', 'developments,', 'The', 'death', 'toll', 'from', 'the', 'Reina', 'nightclub', 'shooting', 'has', 'risen', 'to', '39The', 'number', 'of', 'injured', 'is', 'at', '69', '”Four', 'of', 'them', 'are', 'in', 'critical', 'condition', 'one', 'very', 'critical,”', 'says', 'Interior', 'MinisterAt', 'least', 'one', 'gunman', 'still', 'on', 'the', 'run', 'it', 'is', 'unclear', 'how', 'many', 'attackers', 'were', 'presentNo', 'claim', 'of', 'responsibility', 'has', 'yet', 'been', 'madeUS,', 'Turkish', 'officials', 'say', 'incident', 'is', 'a', 'terrorist', 'attack,', 'Soylu', 'also', 'said', 'that', '”the', 'efforts', 'to', 'locate', 'the', 'terrorist', 'are', 'ongoing.', 'Security', 'forces', 'have', 'begun', 'the', 'necessary', 'operations.', 'God', 'willing', 'soon', '(the', 'attacker)', 'will', 'be', 'apprehended.”', 'Around', '1:15', 'a.', 'm.', 'Sunday,', 'the', 'gunman', 'shot', 'a', 'police', 'officer', 'who', 'was', 'guarding', 'the', 'front', 'gate', 'at', 'the', 'Reina', 'nightclub,', 'killing', 'him,', 'Istanbul', 'Governor', 'Vasip', 'Sahin', 'said.', '”He', 'entered', 'the', 'club', 'and', 'attacked', 'innocent', 'people', 'who', 'were', 'there', 'to', 'celebrate', 'the', 'new', 'year.', 'It', 'was', 'a', 'cruel,', 'act,”', 'the', 'governor', 'said.', 'There', 'have', 'been', 'no', 'claims', 'of', 'responsibility.', 'The', 'fate', 'of', 'the', 'attacker', 'or', 'attackers', 'was', 'also', 'unclear.', '’Crazy', 'people', 'shooting', 'everything’', 'Witnesses', 'in', 'the', 'club', 'said', 'they', 'heard', 'a', 'loud', 'noise,', 'then', 'a', 'security', 'officer', 'told', 'everyone', 'to', 'get', 'out.', 'One', 'victim', 'said', 'he', 'didn’t', 'know', 'how', 'many', 'attackers', 'there', 'were,', 'but', 'he', 'saw', 'one', 'person', 'and', 'hid.', '”I', 'got', 'shot', 'in', 'the', '(expletive)', 'leg,', 'man,”', 'he', 'told', 'journalists', 'in', 'English', 'as', 'he', 'was', 'taken', 'into', 'an', 'ambulance.', '”These', 'crazy', 'people', 'came', 'in', 'shooting', 'everything.”', 'A', 'security', 'camera', 'captured', 'the', 'moment', 'a', 'gunman', 'dressed', 'in', 'dark', 'clothing', 'dashed', 'into', 'the', 'Reina', 'nightclub', 'as', 'bullets', 'ricocheted', 'in', 'the', 'street.', 'The', 'assailant,', 'who', 'has', 'not', 'yet', 'been', 'identified,', 'opened', 'fire', 'inside', 'the', 'nightclub', 'in', 'the', 'busy', 'Besiktas', 'neighborhood,', 'according', 'to', 'Turkish', 'news', 'agency', 'Anadolu.', 'Besiktas,', 'on', 'the', 'European', 'shore', 'of', 'the', 'Bosporus,', 'is', 'known', 'for', 'its', 'expensive,', 'class', 'neighborhoods.', 'The', 'popular', 'area', 'had', 'been', 'under', 'heavy', 'police', 'security', 'for', 'new', 'year', 'celebrations.', 'Ortakoy,', 'where', 'Reina', 'is', 'located,', 'is', 'a', 'vibrant', 'seaside', 'neighborhood', 'that', 'caters', 'to', 'a', 'wide', 'range', 'of', 'people,', 'from', 'the', 'who', 'party', 'at', 'clubs', 'like', 'Reina,', 'to', 'students', 'who', 'buy', 'stuffed', 'baked', 'potatoes', 'from', 'vendors', 'along', 'the', 'Bosporus.', 'Reina', 'itself', 'is', 'one', 'of', 'the', 'first', 'clubs', 'to', 'open', 'along', 'the', 'famous', 'strait', 'and', 'remains', 'a', 'touchstone', 'for', 'Istanbul’s', 'exclusive', 'nightlife.', 'It', 'boasts', 'a', 'classic', 'Istanbul', 'view.', 'Several', 'analysts', 'said', 'the', 'attack', 'looked', 'more', 'like', 'a', 'attack.', '”In', 'terms', 'of', 'the', 'aspects', 'of', 'this', 'attack,', 'it’s', 'a', 'youthful', 'place,', 'a', 'bar', 'that’s', 'pretty', 'in', 'particular', 'to', 'expats.', 'It’s', 'sort', 'of', 'the', 'lively', 'area', 'of', 'Istanbul,', 'and', 'especially', 'on', 'New', 'Year’s', 'Eve', 'night', 'all', 'of', 'those', 'have', 'hallmarks', 'of', 'if', 'not', 'directed', 'attacks', 'to', 'maximize', 'casualties', 'and', 'get', 'a', 'lot', 'of', 'news', 'around', 'it,”', 'said', 'Juliette', 'Kayyem,', 'CNN’s', 'national', 'security', 'analyst.', 'Turkey’s', 'recent', 'tumult,', 'Turkey', 'has', 'endured', 'a', 'recent', 'wave', 'of', 'terrorist', 'attacks,', 'leaving', 'many', 'people', 'wary.', '”This', 'attack', 'is,', 'of', 'course,', 'a', 'horrible', 'development,', 'but', 'not', 'shocking', 'to', 'many', 'Turks', 'who', 'chose', 'to', 'stay', 'inside', 'this', 'New', 'Year’s', 'Eve,”', 'said', 'Aykan', 'Erdemir,', 'former', 'member', 'of', 'the', 'Turkish', 'Parliament.', '”Turkey', 'is', 'known', 'to', 'host', 'these', 'big', 'parties', 'to', 'celebrate', 'New', 'Year’s,', 'but', 'this', 'year', 'most', 'citizens', 'were', 'wary', 'of', 'Islamist', 'attacks', 'so', 'they', 'chose', 'to', 'celebrate', 'it', 'at', 'home', 'with', 'their', 'friends.”', 'He', 'said', 'the', 'attack', 'seemed', 'similar', 'to', 'what', 'happened', 'at', 'the', 'Bataclan,', 'a', 'Paris', 'concert', 'hall', 'that', 'was', 'attacked', 'by', 'gunmen', 'in', '2015.', '”This', 'is', 'an', 'attack', 'on', 'the', 'Western', 'lifestyle.', 'This', 'is', 'an', 'attack', 'on', 'Turkey’s', 'secular,', 'urban', 'way', 'of', 'living.', 'And', 'this', 'will', 'simply', 'fuel', 'the', 'ongoing', 'cultural', 'clashes,', 'the', 'ongoing', 'polarization', 'in', 'Turkey,”', 'Erdemir', 'said.', 'The', 'United', 'States', 'condemned', 'the', 'attack.', '”That', 'such', 'an', 'atrocity', 'could', 'be', 'perpetrated', 'upon', 'innocent', 'revelers,', 'many', 'of', 'whom', 'were', 'celebrating', 'New', 'Year’s', 'Eve,', 'underscores', 'the', 'savagery', 'of', 'the', 'attackers,”', 'National', 'Security', 'Council', 'spokesman', 'Ned', 'Price', 'said', 'in', 'a', 'statement.', 'The', 'US', 'State', 'Department', 'said', 'the', 'attacks', 'like', 'this', 'one', 'on', 'its', 'NATO', 'ally', '”only', 'reinforce', 'our', 'strong', 'determination', 'to', 'work', 'with', 'the', 'government', 'of', 'Turkey', 'to', 'counter', 'the', 'scourge', 'of', 'terrorism.”', 'The', 'US', 'Embassy', 'in', 'Turkey', 'warned', 'citizens', 'to', 'avoid', 'the', 'area', 'where', 'the', 'attack', 'occurred.', 'A', 'violent', 'year,', 'Turkey', 'faces', 'numerous', 'battles', 'across', 'different', 'fronts.', 'Not', 'only', 'has', 'the', 'Syrian', 'conflict', 'and', 'refugee', 'crisis', 'spilled', 'over', 'into', 'Turkey,', 'but', 'Turkey', 'is', 'also', 'battling', 'ISIS', 'and', 'Kurdish', 'militants.', 'Both', 'have', 'staged', 'attacks', 'in', 'Turkey,', 'which', 'is', 'still', 'reeling', 'from', 'a', 'bloody', 'and', 'failed', 'military', 'coup', 'in', 'July.', 'ISIS', 'is', 'suspected', 'in', 'a', 'June', 'attack', 'at', 'Istanbul’s', 'Ataturk', 'Airport', 'that', 'left', '44', 'people', 'dead', 'and', 'an', 'explosion', 'at', 'an', 'August', 'wedding,', 'not', 'far', 'from', 'the', 'border', 'with', 'Syria,', 'that', 'killed', 'at', 'least', '54', 'people.', 'Meanwhile,', 'Turkish', 'security', 'forces', 'clash', 'on', 'an', 'almost', 'daily', 'basis', 'with', 'Kurdistan', 'Workers', 'Party', '(PKK)', 'militants,', 'mostly', 'in', 'predominantly', 'Kurdish', 'parts', 'of', 'southeastern', 'Turkey.', 'A', 'pair', 'of', 'bombings', 'in', 'Istanbul', 'killed', '44', 'people', 'and', 'wounded', '155', 'others', 'December', '10', 'in', 'an', 'attack', 'by', 'a', 'breakaway', 'group', 'of', 'the', 'PKK.', 'The', 'two', 'explosions', 'occurred', 'after', 'a', 'heavily', 'attended', 'soccer', 'game', 'at', 'Besiktas', 'Vodafone', 'Arena.', 'On', 'December', '17,', 'a', 'car', 'bomb', 'exploded', 'near', 'a', 'public', 'bus,', 'killing', '13', 'soldiers', 'in', 'the', 'central', 'province', 'of', 'Kayseri.', 'Three', 'days', 'later,', 'a', 'gunman', 'assassinated', 'Russia’s', 'ambassador', 'to', 'Turkey', 'at', 'an', 'Ankara', 'art', 'gallery.']\n"
     ]
    }
   ],
   "source": [
    "for x in attempt:\n",
    "    if x == '(CNN)':\n",
    "        attempt.remove(x)\n",
    "print(attempt)"
   ]
  },
  {
   "cell_type": "code",
   "execution_count": 75,
   "metadata": {},
   "outputs": [
    {
     "data": {
      "text/plain": [
       "' (CNN) A ride up to see the sights of southern California provided unexpected thrills for a group of people trapped at an amusement park.    Twenty passengers and a ride operator were lowered 100 feet to safety from the Sky Cabin ride at Knott’s Berry Farm in Buena Park on Friday night, fire officials said. They had been trapped for more than seven hours after the ride stopped more than 100 feet in the air, according to a Knott’s Berry Farm statement. Several attempts were made to lower the ride before Orange County Fire officials were called. Fire crews tried several mechanical methods to get the people out    but finally decided to use ropes with a   test strength.  Ride has ’mild thrill’ rating, ”We have firefighters in the cab with the occupants. No one is in any medical distress. So we’re going to affix a harness onto each one of them and one at a time we’re going to lower them down to the ground,” Orange County Fire Authority Capt. Larry Kurtz told CNN affiliate KABC, during the rescue. The Sky Cabin is located in the park’s Boardwalk area, and is described on the Knott’s Berry Farm website as a ”slow spinning attraction . .. with a mild thrill rating.”  The Sky Cabin ascends 180 feet to give riders a panoramic view of the park and surrounding area.  The ride will remain closed until an investigation determines the cause of the incident, according to the park statement. '"
      ]
     },
     "execution_count": 75,
     "metadata": {},
     "output_type": "execute_result"
    }
   ],
   "source": [
    "cnn_df.content[5]"
   ]
  },
  {
   "cell_type": "code",
   "execution_count": 59,
   "metadata": {},
   "outputs": [],
   "source": [
    "half_cnn = cnn_df.content[0:5000]"
   ]
  },
  {
   "cell_type": "code",
   "execution_count": 60,
   "metadata": {},
   "outputs": [],
   "source": [
    "cnn_list = list(half_cnn)"
   ]
  },
  {
   "cell_type": "code",
   "execution_count": null,
   "metadata": {},
   "outputs": [],
   "source": [
    "cnn_list.split"
   ]
  },
  {
   "cell_type": "code",
   "execution_count": 92,
   "metadata": {},
   "outputs": [],
   "source": [
    "def cnn_word_count(content_list):\n",
    "    '''\n",
    "    Takes in content of all cnn articles as a list. \n",
    "    Then removes the '(CNN)' that is at the beginning of every\n",
    "    article and gets a word count. \n",
    "    input: list of strings  \n",
    "    output: float - average number of words per article\n",
    "    '''\n",
    "    count = 0\n",
    "    words = 0\n",
    "    # Come back for more preprocessing\n",
    "    # Right now this is just a rough estimate\n",
    "    # because the numbers in the articles are messing up\n",
    "    # the count\n",
    "    # (), \"\" are also messing up the count\n",
    "    for article in content_list:\n",
    "        split_article = article.split()\n",
    "        for word in split_article:\n",
    "            if word == '(CNN)':\n",
    "                split_article.remove(word)\n",
    "        length = len(split_article) \n",
    "        words += length\n",
    "        count += 1\n",
    "    print(count)\n",
    "    print(words)\n",
    "    return words/count"
   ]
  },
  {
   "cell_type": "code",
   "execution_count": 93,
   "metadata": {},
   "outputs": [
    {
     "name": "stdout",
     "output_type": "stream",
     "text": [
      "5000\n",
      "3701660\n"
     ]
    },
    {
     "data": {
      "text/plain": [
       "740.332"
      ]
     },
     "execution_count": 93,
     "metadata": {},
     "output_type": "execute_result"
    }
   ],
   "source": [
    "cnn_word_count(cnn_list)"
   ]
  },
  {
   "cell_type": "code",
   "execution_count": null,
   "metadata": {},
   "outputs": [],
   "source": []
  },
  {
   "cell_type": "code",
   "execution_count": null,
   "metadata": {},
   "outputs": [],
   "source": []
  }
 ],
 "metadata": {
  "kernelspec": {
   "display_name": "Python 3",
   "language": "python",
   "name": "python3"
  },
  "language_info": {
   "codemirror_mode": {
    "name": "ipython",
    "version": 3
   },
   "file_extension": ".py",
   "mimetype": "text/x-python",
   "name": "python",
   "nbconvert_exporter": "python",
   "pygments_lexer": "ipython3",
   "version": "3.6.8"
  }
 },
 "nbformat": 4,
 "nbformat_minor": 2
}
